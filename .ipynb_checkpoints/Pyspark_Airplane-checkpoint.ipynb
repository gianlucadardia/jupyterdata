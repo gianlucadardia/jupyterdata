{
 "cells": [
  {
   "cell_type": "code",
   "execution_count": null,
   "id": "364768f2-4181-4c68-8c0b-2bb00486e2a9",
   "metadata": {},
   "outputs": [],
   "source": [
    "#import SparkSeccion pyspark.sql\n",
    "from pyspark.sql import SparkSession\n",
    "\n",
    "#Create my_spark\n",
    "spark = SparkSession.builder.getOrCreate()\n",
    "\n",
    "#print my_spark\n",
    "print(spark)"
   ]
  },
  {
   "cell_type": "code",
   "execution_count": null,
   "id": "8e811471-8416-4aa9-9981-88b093c9e178",
   "metadata": {},
   "outputs": [],
   "source": [
    "\n",
    "import pandas as pd\n",
    "import numpy as np\n",
    "\n",
    "# Create pd_temp\n",
    "pd_temp = pd.DataFrame(np.random.random(10))\n",
    "\n",
    "# Create spark_temp from pd_temp\n",
    "spark_temp = spark.createDataFrame(pd_temp)\n"
   ]
  },
  {
   "cell_type": "code",
   "execution_count": null,
   "id": "5c7e38e7-ac0c-4b75-965e-81a8fdb5a9f5",
   "metadata": {},
   "outputs": [],
   "source": [
    "# Examine the tables in the catalog\n",
    "print(spark.catalog.listTables())\n",
    "\n",
    "# Add spark_temp to the catalog\n",
    "spark_temp.createOrReplaceTempView(\"temp\")\n",
    "\n",
    "# Examine the tables in the catalog again\n",
    "print(spark.catalog.listTables())"
   ]
  },
  {
   "cell_type": "code",
   "execution_count": null,
   "id": "5e1c2125-d1ed-484c-a1f6-a8b6b4ecb593",
   "metadata": {},
   "outputs": [],
   "source": [
    "file_path = './spark-end-to-end/airports.csv'\n",
    "\n",
    "#Read in the airports path\n",
    "airports = spark.read.csv(file_path, header=True)\n",
    "\n",
    "airports.show()"
   ]
  },
  {
   "cell_type": "code",
   "execution_count": null,
   "id": "bad1fd46-ec22-4394-ab36-fd46ca8b71c6",
   "metadata": {},
   "outputs": [],
   "source": [
    "type(airports)"
   ]
  },
  {
   "cell_type": "code",
   "execution_count": null,
   "id": "23524546-41a9-4f59-b393-ac4a266e4935",
   "metadata": {},
   "outputs": [],
   "source": [
    "spark.catalog.listDatabases()"
   ]
  },
  {
   "cell_type": "code",
   "execution_count": null,
   "id": "209c84d3-cbbf-4033-9b5c-d5193eb27371",
   "metadata": {},
   "outputs": [],
   "source": [
    "spark.catalog.listTables()"
   ]
  },
  {
   "cell_type": "code",
   "execution_count": null,
   "id": "157056fc-d4a5-44f4-822a-69d1583811ca",
   "metadata": {},
   "outputs": [],
   "source": [
    "flights = spark.read.csv('./spark-end-to-end/flights_small.csv', header=True)\n",
    "flights.show()"
   ]
  },
  {
   "cell_type": "code",
   "execution_count": null,
   "id": "871b32d8-c1d7-462b-9db9-b8581234f5a1",
   "metadata": {},
   "outputs": [],
   "source": [
    "type(flights)"
   ]
  },
  {
   "cell_type": "code",
   "execution_count": 11,
   "id": "64562136-70cb-4a93-a855-dc6b96885cb1",
   "metadata": {},
   "outputs": [
    {
     "data": {
      "text/plain": [
       "[Table(name='flights', catalog=None, namespace=[], description=None, tableType='TEMPORARY', isTemporary=True),\n",
       " Table(name='temp', catalog=None, namespace=[], description=None, tableType='TEMPORARY', isTemporary=True)]"
      ]
     },
     "execution_count": 11,
     "metadata": {},
     "output_type": "execute_result"
    }
   ],
   "source": [
    "flights.name = flights.createOrReplaceTempView('flights')\n",
    "spark.catalog.listTables()"
   ]
  },
  {
   "cell_type": "code",
   "execution_count": 12,
   "id": "69d18635-0f39-4e6b-8bf0-54ed999d3412",
   "metadata": {},
   "outputs": [
    {
     "name": "stdout",
     "output_type": "stream",
     "text": [
      "+----+-----+---+--------+---------+--------+---------+-------+-------+------+------+----+--------+--------+----+------+\n",
      "|year|month|day|dep_time|dep_delay|arr_time|arr_delay|carrier|tailnum|flight|origin|dest|air_time|distance|hour|minute|\n",
      "+----+-----+---+--------+---------+--------+---------+-------+-------+------+------+----+--------+--------+----+------+\n",
      "|2014|   12|  8|     658|       -7|     935|       -5|     VX| N846VA|  1780|   SEA| LAX|     132|     954|   6|    58|\n",
      "|2014|    1| 22|    1040|        5|    1505|        5|     AS| N559AS|   851|   SEA| HNL|     360|    2677|  10|    40|\n",
      "|2014|    3|  9|    1443|       -2|    1652|        2|     VX| N847VA|   755|   SEA| SFO|     111|     679|  14|    43|\n",
      "|2014|    4|  9|    1705|       45|    1839|       34|     WN| N360SW|   344|   PDX| SJC|      83|     569|  17|     5|\n",
      "|2014|    3|  9|     754|       -1|    1015|        1|     AS| N612AS|   522|   SEA| BUR|     127|     937|   7|    54|\n",
      "|2014|    1| 15|    1037|        7|    1352|        2|     WN| N646SW|    48|   PDX| DEN|     121|     991|  10|    37|\n",
      "|2014|    7|  2|     847|       42|    1041|       51|     WN| N422WN|  1520|   PDX| OAK|      90|     543|   8|    47|\n",
      "|2014|    5| 12|    1655|       -5|    1842|      -18|     VX| N361VA|   755|   SEA| SFO|      98|     679|  16|    55|\n",
      "|2014|    4| 19|    1236|       -4|    1508|       -7|     AS| N309AS|   490|   SEA| SAN|     135|    1050|  12|    36|\n",
      "|2014|   11| 19|    1812|       -3|    2352|       -4|     AS| N564AS|    26|   SEA| ORD|     198|    1721|  18|    12|\n",
      "|2014|   11|  8|    1653|       -2|    1924|       -1|     AS| N323AS|   448|   SEA| LAX|     130|     954|  16|    53|\n",
      "|2014|    8|  3|    1120|        0|    1415|        2|     AS| N305AS|   656|   SEA| PHX|     154|    1107|  11|    20|\n",
      "|2014|   10| 30|     811|       21|    1038|       29|     AS| N433AS|   608|   SEA| LAS|     127|     867|   8|    11|\n",
      "|2014|   11| 12|    2346|       -4|     217|      -28|     AS| N765AS|   121|   SEA| ANC|     183|    1448|  23|    46|\n",
      "|2014|   10| 31|    1314|       89|    1544|      111|     AS| N713AS|   306|   SEA| SFO|     129|     679|  13|    14|\n",
      "|2014|    1| 29|    2009|        3|    2159|        9|     UA| N27205|  1458|   PDX| SFO|      90|     550|  20|     9|\n",
      "|2014|   12| 17|    2015|       50|    2150|       41|     AS| N626AS|   368|   SEA| SMF|      76|     605|  20|    15|\n",
      "|2014|    8| 11|    1017|       -3|    1613|       -7|     WN| N8634A|   827|   SEA| MDW|     216|    1733|  10|    17|\n",
      "|2014|    1| 13|    2156|       -9|     607|      -15|     AS| N597AS|    24|   SEA| BOS|     290|    2496|  21|    56|\n",
      "|2014|    6|  5|    1733|      -12|    1945|      -10|     OO| N215AG|  3488|   PDX| BUR|     111|     817|  17|    33|\n",
      "+----+-----+---+--------+---------+--------+---------+-------+-------+------+------+----+--------+--------+----+------+\n",
      "only showing top 20 rows\n",
      "\n",
      "None\n"
     ]
    }
   ],
   "source": [
    "# Create the DataFrame flights\n",
    "flights_df = spark.table('flights')\n",
    "print(flights_df.show())"
   ]
  },
  {
   "cell_type": "code",
   "execution_count": 19,
   "id": "ef019849-3f43-47d5-ac08-8c5fa561c1a8",
   "metadata": {},
   "outputs": [
    {
     "name": "stdout",
     "output_type": "stream",
     "text": [
      "+--------+---------+\n",
      "|dep_time|dep_delay|\n",
      "+--------+---------+\n",
      "|     658|       -7|\n",
      "|    1040|        5|\n",
      "|    1443|       -2|\n",
      "|     754|       -1|\n",
      "|    1655|       -5|\n",
      "|    1236|       -4|\n",
      "|    1812|       -3|\n",
      "|    1653|       -2|\n",
      "|    1120|        0|\n",
      "|     811|       21|\n",
      "|    2346|       -4|\n",
      "|    1314|       89|\n",
      "|    2015|       50|\n",
      "|    1017|       -3|\n",
      "|    2156|       -9|\n",
      "|    2105|       15|\n",
      "|     610|       -5|\n",
      "|    1845|       -5|\n",
      "|    1222|        5|\n",
      "|    1305|       70|\n",
      "+--------+---------+\n",
      "only showing top 20 rows\n",
      "\n"
     ]
    }
   ],
   "source": [
    "# Query the 'flights' table\n",
    "query_results = spark.sql(\"SELECT dep_time, dep_delay FROM flights WHERE origin = 'SEA'\")\n",
    "\n",
    "# Show the results of the query\n",
    "query_results.show()"
   ]
  },
  {
   "cell_type": "code",
   "execution_count": 20,
   "id": "1f2c0c9f-36ea-4e2a-a9a2-03533ff864ee",
   "metadata": {},
   "outputs": [
    {
     "name": "stdout",
     "output_type": "stream",
     "text": [
      "+--------+---------+\n",
      "|dep_time|dep_delay|\n",
      "+--------+---------+\n",
      "|     658|       -7|\n",
      "|    1040|        5|\n",
      "|    1443|       -2|\n",
      "|     754|       -1|\n",
      "|    1655|       -5|\n",
      "|    1236|       -4|\n",
      "|    1812|       -3|\n",
      "|    1653|       -2|\n",
      "|    1120|        0|\n",
      "|     811|       21|\n",
      "|    2346|       -4|\n",
      "|    1314|       89|\n",
      "|    2015|       50|\n",
      "|    1017|       -3|\n",
      "|    2156|       -9|\n",
      "|    2105|       15|\n",
      "|     610|       -5|\n",
      "|    1845|       -5|\n",
      "|    1222|        5|\n",
      "|    1305|       70|\n",
      "+--------+---------+\n",
      "only showing top 20 rows\n",
      "\n"
     ]
    }
   ],
   "source": [
    "query_results_df = flights_df.filter(flights.origin == 'SEA').select('dep_time', 'dep_delay')\n",
    "\n",
    "# Show the results of the query\n",
    "query_results_df.show()"
   ]
  },
  {
   "cell_type": "code",
   "execution_count": 21,
   "id": "a86e8e12-a039-4f35-be7b-76a6dcda84d2",
   "metadata": {},
   "outputs": [
    {
     "data": {
      "text/plain": [
       "pyspark.sql.dataframe.DataFrame"
      ]
     },
     "execution_count": 21,
     "metadata": {},
     "output_type": "execute_result"
    }
   ],
   "source": [
    "type(flights_df)"
   ]
  },
  {
   "cell_type": "code",
   "execution_count": 22,
   "id": "bbb5224f-fce1-4088-acee-83dfc7a21388",
   "metadata": {},
   "outputs": [
    {
     "data": {
      "text/plain": [
       "pyspark.sql.dataframe.DataFrame"
      ]
     },
     "execution_count": 22,
     "metadata": {},
     "output_type": "execute_result"
    }
   ],
   "source": [
    "type (flights)"
   ]
  },
  {
   "cell_type": "code",
   "execution_count": 24,
   "id": "7d737aea-bb8a-48ab-81bf-4c88e492e015",
   "metadata": {},
   "outputs": [
    {
     "name": "stdout",
     "output_type": "stream",
     "text": [
      "+--------+---------+\n",
      "|dep_time|dep_delay|\n",
      "+--------+---------+\n",
      "|     658|       -7|\n",
      "|    1040|        5|\n",
      "|    1443|       -2|\n",
      "|     754|       -1|\n",
      "|    1655|       -5|\n",
      "|    1236|       -4|\n",
      "|    1812|       -3|\n",
      "|    1653|       -2|\n",
      "|    1120|        0|\n",
      "|     811|       21|\n",
      "|    2346|       -4|\n",
      "|    1314|       89|\n",
      "|    2015|       50|\n",
      "|    1017|       -3|\n",
      "|    2156|       -9|\n",
      "|    2105|       15|\n",
      "|     610|       -5|\n",
      "|    1845|       -5|\n",
      "|    1222|        5|\n",
      "|    1305|       70|\n",
      "+--------+---------+\n",
      "only showing top 20 rows\n",
      "\n"
     ]
    }
   ],
   "source": [
    "query_results = flights.filter(flights.origin == 'SEA').select('dep_time', 'dep_delay').show()"
   ]
  },
  {
   "cell_type": "code",
   "execution_count": null,
   "id": "f493939d-2ef6-4c2f-a75c-7e83f296aa86",
   "metadata": {},
   "outputs": [],
   "source": []
  }
 ],
 "metadata": {
  "kernelspec": {
   "display_name": "Python 3",
   "language": "python",
   "name": "python3"
  },
  "language_info": {
   "codemirror_mode": {
    "name": "ipython",
    "version": 3
   },
   "file_extension": ".py",
   "mimetype": "text/x-python",
   "name": "python",
   "nbconvert_exporter": "python",
   "pygments_lexer": "ipython3",
   "version": "3.9.13"
  }
 },
 "nbformat": 4,
 "nbformat_minor": 5
}
