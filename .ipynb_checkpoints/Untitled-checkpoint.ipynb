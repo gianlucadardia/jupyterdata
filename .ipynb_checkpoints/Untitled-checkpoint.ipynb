{
 "cells": [
  {
   "cell_type": "code",
   "execution_count": 5,
   "id": "d5d5e462-f374-426d-8502-3dacfa0886c0",
   "metadata": {},
   "outputs": [],
   "source": [
    "import os\n",
    "import sys\n",
    "\n",
    "os.environ['PYSPARK_PYTHON'] = sys.executable\n",
    "os.environ['PYSPARK_DRIVER_PYTHON'] = sys.executable"
   ]
  },
  {
   "cell_type": "code",
   "execution_count": 6,
   "id": "adedfe2a-b44f-465f-b5a3-b84daf871132",
   "metadata": {},
   "outputs": [],
   "source": [
    "from pyspark.sql import SparkSession\n",
    "spark = SparkSession.builder.getOrCreate()"
   ]
  },
  {
   "cell_type": "markdown",
   "id": "6137d3f5-bb17-4d10-b493-41e850c6e179",
   "metadata": {},
   "source": [
    "### Create DataFrame"
   ]
  },
  {
   "cell_type": "code",
   "execution_count": 7,
   "id": "ef7cb661-ce57-4e1f-8c33-752d45fbed5d",
   "metadata": {},
   "outputs": [],
   "source": [
    "# list  of college data with two lists \n",
    "data = [[\"java\", \"dbms\", \"python\"],  \n",
    "        [\"OOPS\", \"SQL\", \"Machine Learning\"]] \n"
   ]
  },
  {
   "cell_type": "code",
   "execution_count": 8,
   "id": "63e7b801-af4b-4ef3-89e6-ab4af9d96d68",
   "metadata": {},
   "outputs": [],
   "source": [
    "  # giving column names of dataframe \n",
    "columns = [\"Subject 1\", \"Subject 2\", \"Subject 3\"] "
   ]
  },
  {
   "cell_type": "code",
   "execution_count": 9,
   "id": "7dee05e4-1f12-4191-ba6e-3f9e35c1f3f8",
   "metadata": {},
   "outputs": [],
   "source": [
    "# creating a dataframe \n",
    "dataframe = spark.createDataFrame(data, columns) "
   ]
  },
  {
   "cell_type": "code",
   "execution_count": 10,
   "id": "a59fb5d6-f428-4797-b9db-5f6fa2409f67",
   "metadata": {},
   "outputs": [
    {
     "name": "stdout",
     "output_type": "stream",
     "text": [
      "+---------+---------+----------------+\n",
      "|Subject 1|Subject 2|       Subject 3|\n",
      "+---------+---------+----------------+\n",
      "|     java|     dbms|          python|\n",
      "|     OOPS|      SQL|Machine Learning|\n",
      "+---------+---------+----------------+\n",
      "\n"
     ]
    }
   ],
   "source": [
    "# show data frame \n",
    "dataframe.show() "
   ]
  },
  {
   "cell_type": "markdown",
   "id": "11e99787-7c61-41d1-bf6d-9f4e86600798",
   "metadata": {},
   "source": [
    "### script"
   ]
  },
  {
   "cell_type": "code",
   "execution_count": null,
   "id": "df6f0963-24a4-4d3b-be73-4a9b6406fb57",
   "metadata": {},
   "outputs": [],
   "source": [
    "# Import the necessary libraries\n",
    "from pyspark.sql import SparkSession\n",
    "from pyspark.sql.types import *\n",
    "\n",
    "# Create a SparkSession\n",
    "spark = SparkSession.builder.appName('Create DataFrame').getOrCreate()\n",
    "\n",
    "# Define your list\n",
    "data = [('Alice', 1), ('Bob', 2), ('Charlie', 3)]\n",
    "\n",
    "# Define the schema for your DataFrame\n",
    "schema = StructType([\n",
    "    StructField('Name', StringType(), True),\n",
    "    StructField('ID', IntegerType(), True)\n",
    "])\n",
    "\n",
    "# Create DataFrame from list\n",
    "df = spark.createDataFrame(data, schema)\n",
    "\n",
    "# Show the DataFrame\n",
    "df.show()\n"
   ]
  },
  {
   "cell_type": "code",
   "execution_count": null,
   "id": "36688a78-0bb0-4598-be10-1dda44949d8b",
   "metadata": {},
   "outputs": [],
   "source": []
  }
 ],
 "metadata": {
  "kernelspec": {
   "display_name": "Python 3",
   "language": "python",
   "name": "python3"
  },
  "language_info": {
   "codemirror_mode": {
    "name": "ipython",
    "version": 3
   },
   "file_extension": ".py",
   "mimetype": "text/x-python",
   "name": "python",
   "nbconvert_exporter": "python",
   "pygments_lexer": "ipython3",
   "version": "3.9.13"
  }
 },
 "nbformat": 4,
 "nbformat_minor": 5
}
